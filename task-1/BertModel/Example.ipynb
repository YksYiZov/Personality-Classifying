{
 "cells": [
  {
   "cell_type": "code",
   "execution_count": 1,
   "metadata": {},
   "outputs": [],
   "source": [
    "import datasets\n",
    "import torch\n",
    "\n",
    "from transformers import BertTokenizer, BertModel"
   ]
  },
  {
   "cell_type": "code",
   "execution_count": 2,
   "metadata": {},
   "outputs": [],
   "source": [
    "DataFilePath = \"../personality_dataset\"\n",
    "tokenizer = BertTokenizer.from_pretrained('../bert-base-uncase')"
   ]
  },
  {
   "cell_type": "code",
   "execution_count": 3,
   "metadata": {},
   "outputs": [],
   "source": [
    "labels = [\"ENTJ\", \"ENTP\", \"ENFJ\", \"ENFP\", \"ESFJ\", \"ESFP\", \"ESTJ\", \"ESTP\", \"INTP\", \"INTJ\", \"INFP\", \"INFJ\", \"ISFP\", \"ISFJ\", \"ISTP\", \"ISTJ\"]"
   ]
  },
  {
   "cell_type": "code",
   "execution_count": 4,
   "metadata": {},
   "outputs": [],
   "source": [
    "import torch.utils\n",
    "import numpy as np\n",
    "\n",
    "\n",
    "class Dataset(torch.utils.data.Dataset):\n",
    "    def __init__(self, data, number):\n",
    "        self.trian = datasets.load_from_disk(DataFilePath+\"/\"+data)\n",
    "        self.labels = [labels.index(label) for label in self.trian[\"personality\"][0 : number if number < len(self.trian[\"personality\"]) else -1]]\n",
    "        self.texts = [tokenizer(person.replace(\"|||\", \"[SEP]\"),\n",
    "                                padding=\"max_length\",\n",
    "                                max_length=512,\n",
    "                                truncation=True,\n",
    "                                return_tensors=\"pt\")\n",
    "                      for person in self.trian[\"content\"][0 : number if number < len(self.trian[\"content\"]) else -1]]\n",
    "    \n",
    "    def classes(self):\n",
    "        return self.labels\n",
    "    \n",
    "    def __len__(self):\n",
    "        return len(self.labels)\n",
    "    \n",
    "    def get_batch_labels(self, idx):\n",
    "        return np.array(self.labels[idx])\n",
    "    \n",
    "    def get_batch_texts(self, idx):\n",
    "        return self.texts[idx]\n",
    "    \n",
    "    def __getitem__(self, idx):\n",
    "        batch_texts = self.get_batch_texts(idx)\n",
    "        batch_y = self.get_batch_labels(idx)\n",
    "        return batch_texts, batch_y"
   ]
  },
  {
   "cell_type": "code",
   "execution_count": 5,
   "metadata": {},
   "outputs": [],
   "source": [
    "from torch import nn\n",
    "\n",
    "class BertClassifier(nn.Module):\n",
    "    def __init__(self, dropout=0.5):\n",
    "        super(BertClassifier, self).__init__()\n",
    "        self.bert = BertModel.from_pretrained('../bert-base-uncase')\n",
    "        self.dropout = nn.Dropout(dropout)\n",
    "        self.linear = nn.Linear(768, 16)\n",
    "        self.relu = nn.ReLU()\n",
    "\n",
    "    def forward(self, input_id, mask):\n",
    "        _, pooled_output = self.bert(input_ids= input_id, attention_mask=mask,return_dict=False)\n",
    "        dropout_output = self.dropout(pooled_output)\n",
    "        linear_output = self.linear(dropout_output)\n",
    "        final_layer = self.relu(linear_output)\n",
    "        return final_layer"
   ]
  },
  {
   "cell_type": "code",
   "execution_count": 6,
   "metadata": {},
   "outputs": [],
   "source": [
    "from torch.optim import Adam\n",
    "from tqdm import tqdm\n",
    "\n",
    "def train(model, train_data, val_data, learning_rate, epochs, number):\n",
    "    \n",
    "    train, val = Dataset(train_data, number), Dataset(val_data, -1)\n",
    "    \n",
    "    train_dataloader = torch.utils.data.DataLoader(train, batch_size=2, shuffle=True)\n",
    "    val_dataloader = torch.utils.data.DataLoader(val, batch_size=2)\n",
    "    \n",
    "    use_cuda = torch.cuda.is_available()\n",
    "    device = torch.device(\"cuda\" if use_cuda else \"cpu\")\n",
    "    \n",
    "    criterion = nn.CrossEntropyLoss()\n",
    "    optimizer = Adam(model.parameters(), lr=learning_rate)\n",
    "\n",
    "    if use_cuda:\n",
    "            model = model.cuda()\n",
    "            criterion = criterion.cuda()\n",
    "    \n",
    "    for epoch_num in range(epochs):\n",
    "        \n",
    "        total_acc_train = 0\n",
    "        total_loss_train = 0\n",
    "        \n",
    "        for train_input, train_label in tqdm(train_dataloader):\n",
    "\n",
    "            train_label = train_label.to(device)\n",
    "            mask = train_input['attention_mask'].to(device)\n",
    "            input_id = train_input['input_ids'].squeeze(1).to(device)\n",
    "            \n",
    "            output = model(input_id, mask)\n",
    "            \n",
    "            batch_loss = criterion(output, train_label.to(torch.int64))\n",
    "            total_loss_train += batch_loss.item()\n",
    "            \n",
    "            acc = (output.argmax(dim=1) == train_label).sum().item()\n",
    "            total_acc_train += acc\n",
    "            \n",
    "            model.zero_grad()\n",
    "            batch_loss.backward()\n",
    "            optimizer.step()\n",
    "            \n",
    "            \n",
    "            total_acc_val = 0\n",
    "            total_loss_val = 0\n",
    "            \n",
    "            with torch.no_grad():\n",
    "                \n",
    "                for val_input, val_label in val_dataloader:\n",
    "\n",
    "                    val_label = val_label.to(device)\n",
    "                    mask = val_input['attention_mask'].to(device)\n",
    "                    input_id = val_input['input_ids'].squeeze(1).to(device)\n",
    "                    output = model(input_id, mask)\n",
    "\n",
    "                    batch_loss = criterion(output, val_label.to(torch.int64))\n",
    "                    total_loss_val += batch_loss.item()\n",
    "                    \n",
    "                    acc = (output.argmax(dim=1) == val_label).sum().item()\n",
    "                    total_acc_val += acc\n",
    "            \n",
    "            print(\n",
    "                f'''Epochs: {epoch_num + 1} \n",
    "                | Train Loss: {total_loss_train / len(train_data): .3f} \n",
    "                | Train Accuracy: {total_acc_train / len(train_data): .3f} \n",
    "                | Val Loss: {total_loss_val / len(val_data): .3f} \n",
    "                | Val Accuracy: {total_acc_val / len(val_data): .3f}''')   "
   ]
  },
  {
   "cell_type": "code",
   "execution_count": 7,
   "metadata": {},
   "outputs": [
    {
     "name": "stderr",
     "output_type": "stream",
     "text": [
      "c:\\Users\\王蔚昕\\AppData\\Local\\Programs\\Python\\Python310\\lib\\site-packages\\torch\\_utils.py:776: UserWarning: TypedStorage is deprecated. It will be removed in the future and UntypedStorage will be the only storage class. This should only matter to you if you are using storages directly.  To access UntypedStorage directly, use tensor.untyped_storage() instead of tensor.storage()\n",
      "  return self.fget.__get__(instance, owner)()\n",
      "  2%|▏         | 1/50 [03:17<2:41:12, 197.40s/it]"
     ]
    },
    {
     "name": "stdout",
     "output_type": "stream",
     "text": [
      "Epochs: 1 \n",
      "                | Train Loss:  0.620 \n",
      "                | Train Accuracy:  0.000 \n",
      "                | Val Loss:  871.500 \n",
      "                | Val Accuracy:  33.400\n"
     ]
    },
    {
     "name": "stderr",
     "output_type": "stream",
     "text": [
      "  4%|▍         | 2/50 [06:26<2:34:08, 192.69s/it]"
     ]
    },
    {
     "name": "stdout",
     "output_type": "stream",
     "text": [
      "Epochs: 1 \n",
      "                | Train Loss:  1.207 \n",
      "                | Train Accuracy:  0.000 \n",
      "                | Val Loss:  868.304 \n",
      "                | Val Accuracy:  41.000\n"
     ]
    },
    {
     "name": "stderr",
     "output_type": "stream",
     "text": [
      "  6%|▌         | 3/50 [09:35<2:29:34, 190.94s/it]"
     ]
    },
    {
     "name": "stdout",
     "output_type": "stream",
     "text": [
      "Epochs: 1 \n",
      "                | Train Loss:  1.777 \n",
      "                | Train Accuracy:  0.000 \n",
      "                | Val Loss:  868.880 \n",
      "                | Val Accuracy:  35.200\n"
     ]
    },
    {
     "name": "stderr",
     "output_type": "stream",
     "text": [
      "  8%|▊         | 4/50 [12:44<2:25:48, 190.19s/it]"
     ]
    },
    {
     "name": "stdout",
     "output_type": "stream",
     "text": [
      "Epochs: 1 \n",
      "                | Train Loss:  2.327 \n",
      "                | Train Accuracy:  0.000 \n",
      "                | Val Loss:  867.814 \n",
      "                | Val Accuracy:  39.800\n"
     ]
    },
    {
     "name": "stderr",
     "output_type": "stream",
     "text": [
      " 10%|█         | 5/50 [15:53<2:22:14, 189.65s/it]"
     ]
    },
    {
     "name": "stdout",
     "output_type": "stream",
     "text": [
      "Epochs: 1 \n",
      "                | Train Loss:  2.886 \n",
      "                | Train Accuracy:  0.000 \n",
      "                | Val Loss:  864.964 \n",
      "                | Val Accuracy:  38.200\n"
     ]
    },
    {
     "name": "stderr",
     "output_type": "stream",
     "text": [
      " 12%|█▏        | 6/50 [19:02<2:18:49, 189.30s/it]"
     ]
    },
    {
     "name": "stdout",
     "output_type": "stream",
     "text": [
      "Epochs: 1 \n",
      "                | Train Loss:  3.437 \n",
      "                | Train Accuracy:  0.000 \n",
      "                | Val Loss:  863.095 \n",
      "                | Val Accuracy:  39.400\n"
     ]
    },
    {
     "name": "stderr",
     "output_type": "stream",
     "text": [
      " 14%|█▍        | 7/50 [22:10<2:15:29, 189.05s/it]"
     ]
    },
    {
     "name": "stdout",
     "output_type": "stream",
     "text": [
      "Epochs: 1 \n",
      "                | Train Loss:  4.030 \n",
      "                | Train Accuracy:  0.000 \n",
      "                | Val Loss:  865.272 \n",
      "                | Val Accuracy:  39.200\n"
     ]
    },
    {
     "name": "stderr",
     "output_type": "stream",
     "text": [
      " 16%|█▌        | 8/50 [25:18<2:12:11, 188.83s/it]"
     ]
    },
    {
     "name": "stdout",
     "output_type": "stream",
     "text": [
      "Epochs: 1 \n",
      "                | Train Loss:  4.614 \n",
      "                | Train Accuracy:  0.000 \n",
      "                | Val Loss:  864.490 \n",
      "                | Val Accuracy:  43.600\n"
     ]
    },
    {
     "name": "stderr",
     "output_type": "stream",
     "text": [
      " 18%|█▊        | 9/50 [28:27<2:08:57, 188.73s/it]"
     ]
    },
    {
     "name": "stdout",
     "output_type": "stream",
     "text": [
      "Epochs: 1 \n",
      "                | Train Loss:  5.164 \n",
      "                | Train Accuracy:  0.000 \n",
      "                | Val Loss:  860.877 \n",
      "                | Val Accuracy:  46.000\n"
     ]
    },
    {
     "name": "stderr",
     "output_type": "stream",
     "text": [
      " 20%|██        | 10/50 [31:35<2:05:45, 188.63s/it]"
     ]
    },
    {
     "name": "stdout",
     "output_type": "stream",
     "text": [
      "Epochs: 1 \n",
      "                | Train Loss:  5.727 \n",
      "                | Train Accuracy:  0.000 \n",
      "                | Val Loss:  860.607 \n",
      "                | Val Accuracy:  50.000\n"
     ]
    },
    {
     "name": "stderr",
     "output_type": "stream",
     "text": [
      " 22%|██▏       | 11/50 [34:44<2:02:35, 188.59s/it]"
     ]
    },
    {
     "name": "stdout",
     "output_type": "stream",
     "text": [
      "Epochs: 1 \n",
      "                | Train Loss:  6.328 \n",
      "                | Train Accuracy:  0.000 \n",
      "                | Val Loss:  862.641 \n",
      "                | Val Accuracy:  42.800\n"
     ]
    },
    {
     "name": "stderr",
     "output_type": "stream",
     "text": [
      " 24%|██▍       | 12/50 [38:01<2:01:00, 191.07s/it]"
     ]
    },
    {
     "name": "stdout",
     "output_type": "stream",
     "text": [
      "Epochs: 1 \n",
      "                | Train Loss:  6.926 \n",
      "                | Train Accuracy:  0.000 \n",
      "                | Val Loss:  859.109 \n",
      "                | Val Accuracy:  47.200\n"
     ]
    },
    {
     "name": "stderr",
     "output_type": "stream",
     "text": [
      " 26%|██▌       | 13/50 [41:16<1:58:41, 192.47s/it]"
     ]
    },
    {
     "name": "stdout",
     "output_type": "stream",
     "text": [
      "Epochs: 1 \n",
      "                | Train Loss:  7.533 \n",
      "                | Train Accuracy:  0.000 \n",
      "                | Val Loss:  860.828 \n",
      "                | Val Accuracy:  45.800\n"
     ]
    },
    {
     "name": "stderr",
     "output_type": "stream",
     "text": [
      " 28%|██▊       | 14/50 [44:32<1:56:01, 193.38s/it]"
     ]
    },
    {
     "name": "stdout",
     "output_type": "stream",
     "text": [
      "Epochs: 1 \n",
      "                | Train Loss:  8.087 \n",
      "                | Train Accuracy:  0.000 \n",
      "                | Val Loss:  858.923 \n",
      "                | Val Accuracy:  47.600\n"
     ]
    },
    {
     "name": "stderr",
     "output_type": "stream",
     "text": [
      " 30%|███       | 15/50 [47:47<1:53:11, 194.04s/it]"
     ]
    },
    {
     "name": "stdout",
     "output_type": "stream",
     "text": [
      "Epochs: 1 \n",
      "                | Train Loss:  8.646 \n",
      "                | Train Accuracy:  0.000 \n",
      "                | Val Loss:  856.978 \n",
      "                | Val Accuracy:  48.600\n"
     ]
    },
    {
     "name": "stderr",
     "output_type": "stream",
     "text": [
      " 32%|███▏      | 16/50 [51:03<1:50:12, 194.49s/it]"
     ]
    },
    {
     "name": "stdout",
     "output_type": "stream",
     "text": [
      "Epochs: 1 \n",
      "                | Train Loss:  9.186 \n",
      "                | Train Accuracy:  0.000 \n",
      "                | Val Loss:  857.506 \n",
      "                | Val Accuracy:  51.600\n"
     ]
    },
    {
     "name": "stderr",
     "output_type": "stream",
     "text": [
      " 34%|███▍      | 17/50 [54:19<1:47:09, 194.85s/it]"
     ]
    },
    {
     "name": "stdout",
     "output_type": "stream",
     "text": [
      "Epochs: 1 \n",
      "                | Train Loss:  9.716 \n",
      "                | Train Accuracy:  0.000 \n",
      "                | Val Loss:  856.374 \n",
      "                | Val Accuracy:  51.000\n"
     ]
    },
    {
     "name": "stderr",
     "output_type": "stream",
     "text": [
      " 36%|███▌      | 18/50 [57:34<1:44:03, 195.10s/it]"
     ]
    },
    {
     "name": "stdout",
     "output_type": "stream",
     "text": [
      "Epochs: 1 \n",
      "                | Train Loss:  10.236 \n",
      "                | Train Accuracy:  0.200 \n",
      "                | Val Loss:  853.883 \n",
      "                | Val Accuracy:  53.600\n"
     ]
    },
    {
     "name": "stderr",
     "output_type": "stream",
     "text": [
      " 38%|███▊      | 19/50 [1:00:50<1:40:53, 195.27s/it]"
     ]
    },
    {
     "name": "stdout",
     "output_type": "stream",
     "text": [
      "Epochs: 1 \n",
      "                | Train Loss:  10.775 \n",
      "                | Train Accuracy:  0.200 \n",
      "                | Val Loss:  854.618 \n",
      "                | Val Accuracy:  54.600\n"
     ]
    },
    {
     "name": "stderr",
     "output_type": "stream",
     "text": [
      " 40%|████      | 20/50 [1:04:06<1:37:48, 195.60s/it]"
     ]
    },
    {
     "name": "stdout",
     "output_type": "stream",
     "text": [
      "Epochs: 1 \n",
      "                | Train Loss:  11.343 \n",
      "                | Train Accuracy:  0.200 \n",
      "                | Val Loss:  854.102 \n",
      "                | Val Accuracy:  55.600\n"
     ]
    },
    {
     "name": "stderr",
     "output_type": "stream",
     "text": [
      " 42%|████▏     | 21/50 [1:07:23<1:34:41, 195.93s/it]"
     ]
    },
    {
     "name": "stdout",
     "output_type": "stream",
     "text": [
      "Epochs: 1 \n",
      "                | Train Loss:  11.842 \n",
      "                | Train Accuracy:  0.400 \n",
      "                | Val Loss:  853.416 \n",
      "                | Val Accuracy:  56.600\n"
     ]
    },
    {
     "name": "stderr",
     "output_type": "stream",
     "text": [
      " 44%|████▍     | 22/50 [1:10:39<1:31:31, 196.11s/it]"
     ]
    },
    {
     "name": "stdout",
     "output_type": "stream",
     "text": [
      "Epochs: 1 \n",
      "                | Train Loss:  12.409 \n",
      "                | Train Accuracy:  0.400 \n",
      "                | Val Loss:  854.032 \n",
      "                | Val Accuracy:  53.600\n"
     ]
    },
    {
     "name": "stderr",
     "output_type": "stream",
     "text": [
      " 46%|████▌     | 23/50 [1:13:56<1:28:16, 196.17s/it]"
     ]
    },
    {
     "name": "stdout",
     "output_type": "stream",
     "text": [
      "Epochs: 1 \n",
      "                | Train Loss:  12.959 \n",
      "                | Train Accuracy:  0.400 \n",
      "                | Val Loss:  851.736 \n",
      "                | Val Accuracy:  59.600\n"
     ]
    },
    {
     "name": "stderr",
     "output_type": "stream",
     "text": [
      " 48%|████▊     | 24/50 [1:17:16<1:25:29, 197.27s/it]"
     ]
    },
    {
     "name": "stdout",
     "output_type": "stream",
     "text": [
      "Epochs: 1 \n",
      "                | Train Loss:  13.484 \n",
      "                | Train Accuracy:  0.600 \n",
      "                | Val Loss:  853.444 \n",
      "                | Val Accuracy:  53.400\n"
     ]
    },
    {
     "name": "stderr",
     "output_type": "stream",
     "text": [
      " 50%|█████     | 25/50 [1:20:27<1:21:25, 195.43s/it]"
     ]
    },
    {
     "name": "stdout",
     "output_type": "stream",
     "text": [
      "Epochs: 1 \n",
      "                | Train Loss:  14.018 \n",
      "                | Train Accuracy:  0.600 \n",
      "                | Val Loss:  853.364 \n",
      "                | Val Accuracy:  54.800\n"
     ]
    },
    {
     "name": "stderr",
     "output_type": "stream",
     "text": [
      " 52%|█████▏    | 26/50 [1:23:41<1:18:03, 195.13s/it]"
     ]
    },
    {
     "name": "stdout",
     "output_type": "stream",
     "text": [
      "Epochs: 1 \n",
      "                | Train Loss:  14.573 \n",
      "                | Train Accuracy:  0.800 \n",
      "                | Val Loss:  851.556 \n",
      "                | Val Accuracy:  61.200\n"
     ]
    },
    {
     "name": "stderr",
     "output_type": "stream",
     "text": [
      " 54%|█████▍    | 27/50 [1:26:57<1:14:52, 195.31s/it]"
     ]
    },
    {
     "name": "stdout",
     "output_type": "stream",
     "text": [
      "Epochs: 1 \n",
      "                | Train Loss:  15.143 \n",
      "                | Train Accuracy:  0.800 \n",
      "                | Val Loss:  851.399 \n",
      "                | Val Accuracy:  59.400\n"
     ]
    },
    {
     "name": "stderr",
     "output_type": "stream",
     "text": [
      " 56%|█████▌    | 28/50 [1:30:14<1:11:46, 195.74s/it]"
     ]
    },
    {
     "name": "stdout",
     "output_type": "stream",
     "text": [
      "Epochs: 1 \n",
      "                | Train Loss:  15.697 \n",
      "                | Train Accuracy:  0.800 \n",
      "                | Val Loss:  852.106 \n",
      "                | Val Accuracy:  56.200\n"
     ]
    },
    {
     "name": "stderr",
     "output_type": "stream",
     "text": [
      " 58%|█████▊    | 29/50 [1:33:30<1:08:32, 195.85s/it]"
     ]
    },
    {
     "name": "stdout",
     "output_type": "stream",
     "text": [
      "Epochs: 1 \n",
      "                | Train Loss:  16.300 \n",
      "                | Train Accuracy:  0.800 \n",
      "                | Val Loss:  853.504 \n",
      "                | Val Accuracy:  55.600\n"
     ]
    },
    {
     "name": "stderr",
     "output_type": "stream",
     "text": [
      " 60%|██████    | 30/50 [1:36:47<1:05:23, 196.19s/it]"
     ]
    },
    {
     "name": "stdout",
     "output_type": "stream",
     "text": [
      "Epochs: 1 \n",
      "                | Train Loss:  16.856 \n",
      "                | Train Accuracy:  0.800 \n",
      "                | Val Loss:  851.396 \n",
      "                | Val Accuracy:  63.400\n"
     ]
    },
    {
     "name": "stderr",
     "output_type": "stream",
     "text": [
      " 62%|██████▏   | 31/50 [1:40:03<1:02:10, 196.35s/it]"
     ]
    },
    {
     "name": "stdout",
     "output_type": "stream",
     "text": [
      "Epochs: 1 \n",
      "                | Train Loss:  17.318 \n",
      "                | Train Accuracy:  1.000 \n",
      "                | Val Loss:  849.939 \n",
      "                | Val Accuracy:  60.000\n"
     ]
    },
    {
     "name": "stderr",
     "output_type": "stream",
     "text": [
      " 64%|██████▍   | 32/50 [1:43:20<58:57, 196.50s/it]  "
     ]
    },
    {
     "name": "stdout",
     "output_type": "stream",
     "text": [
      "Epochs: 1 \n",
      "                | Train Loss:  17.826 \n",
      "                | Train Accuracy:  1.000 \n",
      "                | Val Loss:  851.786 \n",
      "                | Val Accuracy:  56.000\n"
     ]
    },
    {
     "name": "stderr",
     "output_type": "stream",
     "text": [
      " 66%|██████▌   | 33/50 [1:46:38<55:45, 196.76s/it]"
     ]
    },
    {
     "name": "stdout",
     "output_type": "stream",
     "text": [
      "Epochs: 1 \n",
      "                | Train Loss:  18.407 \n",
      "                | Train Accuracy:  1.000 \n",
      "                | Val Loss:  851.515 \n",
      "                | Val Accuracy:  59.400\n"
     ]
    },
    {
     "name": "stderr",
     "output_type": "stream",
     "text": [
      " 68%|██████▊   | 34/50 [1:49:54<52:28, 196.76s/it]"
     ]
    },
    {
     "name": "stdout",
     "output_type": "stream",
     "text": [
      "Epochs: 1 \n",
      "                | Train Loss:  18.972 \n",
      "                | Train Accuracy:  1.000 \n",
      "                | Val Loss:  850.828 \n",
      "                | Val Accuracy:  63.400\n"
     ]
    },
    {
     "name": "stderr",
     "output_type": "stream",
     "text": [
      " 70%|███████   | 35/50 [1:53:11<49:09, 196.63s/it]"
     ]
    },
    {
     "name": "stdout",
     "output_type": "stream",
     "text": [
      "Epochs: 1 \n",
      "                | Train Loss:  19.517 \n",
      "                | Train Accuracy:  1.000 \n",
      "                | Val Loss:  850.000 \n",
      "                | Val Accuracy:  60.200\n"
     ]
    },
    {
     "name": "stderr",
     "output_type": "stream",
     "text": [
      " 72%|███████▏  | 36/50 [1:56:27<45:50, 196.49s/it]"
     ]
    },
    {
     "name": "stdout",
     "output_type": "stream",
     "text": [
      "Epochs: 1 \n",
      "                | Train Loss:  20.058 \n",
      "                | Train Accuracy:  1.000 \n",
      "                | Val Loss:  848.502 \n",
      "                | Val Accuracy:  69.000\n"
     ]
    },
    {
     "name": "stderr",
     "output_type": "stream",
     "text": [
      " 74%|███████▍  | 37/50 [1:59:43<42:32, 196.37s/it]"
     ]
    },
    {
     "name": "stdout",
     "output_type": "stream",
     "text": [
      "Epochs: 1 \n",
      "                | Train Loss:  20.599 \n",
      "                | Train Accuracy:  1.000 \n",
      "                | Val Loss:  851.466 \n",
      "                | Val Accuracy:  59.400\n"
     ]
    },
    {
     "name": "stderr",
     "output_type": "stream",
     "text": [
      " 76%|███████▌  | 38/50 [2:02:57<39:09, 195.79s/it]"
     ]
    },
    {
     "name": "stdout",
     "output_type": "stream",
     "text": [
      "Epochs: 1 \n",
      "                | Train Loss:  21.126 \n",
      "                | Train Accuracy:  1.000 \n",
      "                | Val Loss:  849.603 \n",
      "                | Val Accuracy:  64.400\n"
     ]
    },
    {
     "name": "stderr",
     "output_type": "stream",
     "text": [
      " 78%|███████▊  | 39/50 [2:06:15<35:58, 196.19s/it]"
     ]
    },
    {
     "name": "stdout",
     "output_type": "stream",
     "text": [
      "Epochs: 1 \n",
      "                | Train Loss:  21.649 \n",
      "                | Train Accuracy:  1.200 \n",
      "                | Val Loss:  850.787 \n",
      "                | Val Accuracy:  58.200\n"
     ]
    },
    {
     "name": "stderr",
     "output_type": "stream",
     "text": [
      " 80%|████████  | 40/50 [2:09:27<32:30, 195.03s/it]"
     ]
    },
    {
     "name": "stdout",
     "output_type": "stream",
     "text": [
      "Epochs: 1 \n",
      "                | Train Loss:  22.245 \n",
      "                | Train Accuracy:  1.200 \n",
      "                | Val Loss:  850.530 \n",
      "                | Val Accuracy:  54.400\n"
     ]
    },
    {
     "name": "stderr",
     "output_type": "stream",
     "text": [
      " 82%|████████▏ | 41/50 [2:12:47<29:28, 196.52s/it]"
     ]
    },
    {
     "name": "stdout",
     "output_type": "stream",
     "text": [
      "Epochs: 1 \n",
      "                | Train Loss:  22.774 \n",
      "                | Train Accuracy:  1.200 \n",
      "                | Val Loss:  849.043 \n",
      "                | Val Accuracy:  63.800\n"
     ]
    },
    {
     "name": "stderr",
     "output_type": "stream",
     "text": [
      " 84%|████████▍ | 42/50 [2:16:06<26:18, 197.37s/it]"
     ]
    },
    {
     "name": "stdout",
     "output_type": "stream",
     "text": [
      "Epochs: 1 \n",
      "                | Train Loss:  23.290 \n",
      "                | Train Accuracy:  1.400 \n",
      "                | Val Loss:  848.938 \n",
      "                | Val Accuracy:  67.000\n"
     ]
    },
    {
     "name": "stderr",
     "output_type": "stream",
     "text": [
      " 86%|████████▌ | 43/50 [2:19:28<23:11, 198.82s/it]"
     ]
    },
    {
     "name": "stdout",
     "output_type": "stream",
     "text": [
      "Epochs: 1 \n",
      "                | Train Loss:  23.786 \n",
      "                | Train Accuracy:  1.400 \n",
      "                | Val Loss:  848.880 \n",
      "                | Val Accuracy:  63.000\n"
     ]
    },
    {
     "name": "stderr",
     "output_type": "stream",
     "text": [
      " 88%|████████▊ | 44/50 [2:22:47<19:53, 198.84s/it]"
     ]
    },
    {
     "name": "stdout",
     "output_type": "stream",
     "text": [
      "Epochs: 1 \n",
      "                | Train Loss:  24.377 \n",
      "                | Train Accuracy:  1.400 \n",
      "                | Val Loss:  847.114 \n",
      "                | Val Accuracy:  66.400\n"
     ]
    },
    {
     "name": "stderr",
     "output_type": "stream",
     "text": [
      " 90%|█████████ | 45/50 [2:26:07<16:35, 199.04s/it]"
     ]
    },
    {
     "name": "stdout",
     "output_type": "stream",
     "text": [
      "Epochs: 1 \n",
      "                | Train Loss:  24.893 \n",
      "                | Train Accuracy:  1.400 \n",
      "                | Val Loss:  848.171 \n",
      "                | Val Accuracy:  67.400\n"
     ]
    },
    {
     "name": "stderr",
     "output_type": "stream",
     "text": [
      " 92%|█████████▏| 46/50 [2:29:23<13:12, 198.20s/it]"
     ]
    },
    {
     "name": "stdout",
     "output_type": "stream",
     "text": [
      "Epochs: 1 \n",
      "                | Train Loss:  25.460 \n",
      "                | Train Accuracy:  1.400 \n",
      "                | Val Loss:  850.390 \n",
      "                | Val Accuracy:  61.600\n"
     ]
    },
    {
     "name": "stderr",
     "output_type": "stream",
     "text": [
      " 94%|█████████▍| 47/50 [2:32:38<09:51, 197.31s/it]"
     ]
    },
    {
     "name": "stdout",
     "output_type": "stream",
     "text": [
      "Epochs: 1 \n",
      "                | Train Loss:  25.987 \n",
      "                | Train Accuracy:  1.400 \n",
      "                | Val Loss:  849.718 \n",
      "                | Val Accuracy:  62.800\n"
     ]
    },
    {
     "name": "stderr",
     "output_type": "stream",
     "text": [
      " 96%|█████████▌| 48/50 [2:35:56<06:34, 197.39s/it]"
     ]
    },
    {
     "name": "stdout",
     "output_type": "stream",
     "text": [
      "Epochs: 1 \n",
      "                | Train Loss:  26.565 \n",
      "                | Train Accuracy:  1.400 \n",
      "                | Val Loss:  847.783 \n",
      "                | Val Accuracy:  66.200\n"
     ]
    },
    {
     "name": "stderr",
     "output_type": "stream",
     "text": [
      " 98%|█████████▊| 49/50 [2:39:16<03:18, 198.05s/it]"
     ]
    },
    {
     "name": "stdout",
     "output_type": "stream",
     "text": [
      "Epochs: 1 \n",
      "                | Train Loss:  27.139 \n",
      "                | Train Accuracy:  1.400 \n",
      "                | Val Loss:  848.910 \n",
      "                | Val Accuracy:  69.200\n"
     ]
    },
    {
     "name": "stderr",
     "output_type": "stream",
     "text": [
      "100%|██████████| 50/50 [2:42:35<00:00, 195.12s/it]"
     ]
    },
    {
     "name": "stdout",
     "output_type": "stream",
     "text": [
      "Epochs: 1 \n",
      "                | Train Loss:  27.724 \n",
      "                | Train Accuracy:  1.400 \n",
      "                | Val Loss:  849.141 \n",
      "                | Val Accuracy:  64.600\n"
     ]
    },
    {
     "name": "stderr",
     "output_type": "stream",
     "text": [
      "\n"
     ]
    }
   ],
   "source": [
    "EPOCHS = 1\n",
    "model = BertClassifier()\n",
    "LR = 1e-6\n",
    "number = 100\n",
    "\n",
    "train(model, \"train\", \"valid\",  LR, EPOCHS, number)"
   ]
  }
 ],
 "metadata": {
  "kernelspec": {
   "display_name": "Python 3",
   "language": "python",
   "name": "python3"
  },
  "language_info": {
   "codemirror_mode": {
    "name": "ipython",
    "version": 3
   },
   "file_extension": ".py",
   "mimetype": "text/x-python",
   "name": "python",
   "nbconvert_exporter": "python",
   "pygments_lexer": "ipython3",
   "version": "3.10.1"
  }
 },
 "nbformat": 4,
 "nbformat_minor": 2
}
