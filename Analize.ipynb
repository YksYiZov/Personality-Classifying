{
 "cells": [
  {
   "cell_type": "markdown",
   "metadata": {},
   "source": [
    "<hr/>\n",
    "<center>探究不同性格间文本内容的相似度</center>\n",
    "<hr/>"
   ]
  },
  {
   "cell_type": "code",
   "execution_count": 1,
   "metadata": {},
   "outputs": [],
   "source": [
    "import datasets\n",
    "\n",
    "DataFilePath = \"./personality_dataset\""
   ]
  },
  {
   "cell_type": "code",
   "execution_count": 2,
   "metadata": {},
   "outputs": [],
   "source": [
    "def get_data(path):\n",
    "    train = datasets.load_from_disk(path+\"/train\")\n",
    "    return train\n",
    "\n",
    "train = get_data(DataFilePath)"
   ]
  },
  {
   "cell_type": "code",
   "execution_count": 3,
   "metadata": {},
   "outputs": [],
   "source": [
    "labels = [\"ENTJ\", \"ENTP\", \"ENFJ\", \"ENFP\", \"ESFJ\", \"ESFP\", \"ESTJ\", \"ESTP\", \"INTP\", \"INTJ\", \"INFP\", \"INFJ\", \"ISFP\", \"ISFJ\", \"ISTP\", \"ISTJ\"]"
   ]
  },
  {
   "cell_type": "code",
   "execution_count": 4,
   "metadata": {},
   "outputs": [
    {
     "data": {
      "text/plain": [
       "[1934,\n",
       " 4456,\n",
       " 2803,\n",
       " 5186,\n",
       " 552,\n",
       " 758,\n",
       " 494,\n",
       " 638,\n",
       " 7213,\n",
       " 6913,\n",
       " 10862,\n",
       " 9281,\n",
       " 2128,\n",
       " 1923,\n",
       " 2164,\n",
       " 1667]"
      ]
     },
     "execution_count": 4,
     "metadata": {},
     "output_type": "execute_result"
    }
   ],
   "source": [
    "nums = [0 for i in range(16)]\n",
    "\n",
    "for person in train[\"personality\"]:\n",
    "    nums[labels.index(person)] += 1\n",
    "\n",
    "nums"
   ]
  },
  {
   "cell_type": "code",
   "execution_count": 10,
   "metadata": {},
   "outputs": [
    {
     "name": "stderr",
     "output_type": "stream",
     "text": [
      "100%|██████████| 58972/58972 [00:02<00:00, 20166.80it/s]\n",
      "100%|██████████| 58972/58972 [00:02<00:00, 20281.49it/s]\n"
     ]
    }
   ],
   "source": [
    "import tqdm\n",
    "\n",
    "\n",
    "# 选取两个数量相近的性格\n",
    "personality = [\"ENTJ\", \"ISFP\"]\n",
    "ENTJ = [train[i][\"content\"].replace(\"|||\", \".\") for i in tqdm.tqdm(range(len(train)), position=0) if train[i][\"personality\"] == \"ENTJ\"]\n",
    "ISFP = [train[i][\"content\"].replace(\"|||\", \".\") for i in tqdm.tqdm(range(len(train)), position=0) if train[i][\"personality\"] == \"ISFP\"]"
   ]
  },
  {
   "cell_type": "code",
   "execution_count": 19,
   "metadata": {},
   "outputs": [
    {
     "name": "stderr",
     "output_type": "stream",
     "text": [
      "100%|██████████| 1934/1934 [00:51<00:00, 37.83it/s]\n",
      "100%|██████████| 2128/2128 [00:56<00:00, 37.54it/s]\n"
     ]
    }
   ],
   "source": [
    "import spacy\n",
    "\n",
    "# 做词数统计\n",
    "nlp = spacy.load(\"en_core_web_sm\", exclude=[\"tok2vec\", \"tagger\", \"senter\", \"attribute_ruler\", \"lemmatizer\"])\n",
    "words1 = {}\n",
    "words2 = {}\n",
    "words = {}\n",
    "for i in tqdm.tqdm(range(len(ENTJ)), position=0):\n",
    "    ENTJ[i] = nlp(ENTJ[i])\n",
    "    for token in ENTJ[i]:\n",
    "        if token.text in words1.keys():\n",
    "            words1[token.text] += 1\n",
    "            words[token.text] += 1\n",
    "        else:\n",
    "            words[token.text] = 1\n",
    "            words1[token.text] = 1\n",
    "            \n",
    "for i in tqdm.tqdm(range(len(ISFP)), position=0):\n",
    "    ISFP[i] = nlp(ISFP[i])\n",
    "    for token in ISFP[i]:\n",
    "        if token.text in words2.keys():\n",
    "            words2[token.text] += 1\n",
    "        else:\n",
    "            words2[token.text] = 1\n",
    "        if token.text in words.keys():\n",
    "            words[token.text] += 1\n",
    "        else:\n",
    "            words[token.text] = 1"
   ]
  },
  {
   "cell_type": "code",
   "execution_count": 50,
   "metadata": {},
   "outputs": [],
   "source": [
    "# 预处理后期统一数据维度\n",
    "lst1 = [words1[i] if i in words1.keys() else 0 for i in words.keys()]\n",
    "lst2 = [words2[i] if i in words2.keys() else 0 for i in words.keys()]"
   ]
  },
  {
   "cell_type": "code",
   "execution_count": 63,
   "metadata": {},
   "outputs": [],
   "source": [
    "import numpy as np\n",
    "\n",
    "\n",
    "# 得到词数的编码向量\n",
    "fea1 = np.array(lst1)\n",
    "fea2 = np.array(lst2)"
   ]
  },
  {
   "cell_type": "code",
   "execution_count": 64,
   "metadata": {},
   "outputs": [],
   "source": [
    "# 计算每一种词汇所占比例\n",
    "fea1 = fea1 / np.sum(fea1)\n",
    "fea2 = fea2 / np.sum(fea2)"
   ]
  },
  {
   "cell_type": "code",
   "execution_count": 65,
   "metadata": {},
   "outputs": [],
   "source": [
    "# 变为单位向量\n",
    "fea1 = fea1 / np.linalg.norm(fea1)\n",
    "fea2 = fea2 / np.linalg.norm(fea2)"
   ]
  },
  {
   "cell_type": "code",
   "execution_count": 66,
   "metadata": {},
   "outputs": [],
   "source": [
    "cor = fea1.T.dot(fea2)"
   ]
  },
  {
   "cell_type": "code",
   "execution_count": 67,
   "metadata": {},
   "outputs": [
    {
     "data": {
      "text/plain": [
       "0.9852139611568004"
      ]
     },
     "execution_count": 67,
     "metadata": {},
     "output_type": "execute_result"
    }
   ],
   "source": [
    "cor"
   ]
  }
 ],
 "metadata": {
  "kernelspec": {
   "display_name": "Python 3",
   "language": "python",
   "name": "python3"
  },
  "language_info": {
   "codemirror_mode": {
    "name": "ipython",
    "version": 3
   },
   "file_extension": ".py",
   "mimetype": "text/x-python",
   "name": "python",
   "nbconvert_exporter": "python",
   "pygments_lexer": "ipython3",
   "version": "3.10.1"
  }
 },
 "nbformat": 4,
 "nbformat_minor": 2
}
