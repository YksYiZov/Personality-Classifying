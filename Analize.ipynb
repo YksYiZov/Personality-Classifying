{
 "cells": [
  {
   "cell_type": "markdown",
   "metadata": {},
   "source": [
    "<hr/>\n",
    "<center>探究不同性格间文本内容的相似度</center>\n",
    "<hr/>"
   ]
  },
  {
   "cell_type": "code",
   "execution_count": 1,
   "metadata": {},
   "outputs": [],
   "source": [
    "import datasets\n",
    "\n",
    "DataFilePath = \"./personality_dataset\""
   ]
  },
  {
   "cell_type": "code",
   "execution_count": 2,
   "metadata": {},
   "outputs": [],
   "source": [
    "def get_data(path):\n",
    "    train = datasets.load_from_disk(path+\"/train\")\n",
    "    return train\n",
    "\n",
    "train = get_data(DataFilePath)"
   ]
  },
  {
   "cell_type": "code",
   "execution_count": 3,
   "metadata": {},
   "outputs": [],
   "source": [
    "labels = [\"ENTJ\", \"ENTP\", \"ENFJ\", \"ENFP\", \"ESFJ\", \"ESFP\", \"ESTJ\", \"ESTP\", \"INTP\", \"INTJ\", \"INFP\", \"INFJ\", \"ISFP\", \"ISFJ\", \"ISTP\", \"ISTJ\"]"
   ]
  },
  {
   "cell_type": "code",
   "execution_count": 4,
   "metadata": {},
   "outputs": [
    {
     "data": {
      "text/plain": [
       "[1934,\n",
       " 4456,\n",
       " 2803,\n",
       " 5186,\n",
       " 552,\n",
       " 758,\n",
       " 494,\n",
       " 638,\n",
       " 7213,\n",
       " 6913,\n",
       " 10862,\n",
       " 9281,\n",
       " 2128,\n",
       " 1923,\n",
       " 2164,\n",
       " 1667]"
      ]
     },
     "execution_count": 4,
     "metadata": {},
     "output_type": "execute_result"
    }
   ],
   "source": [
    "nums = [0 for i in range(16)]\n",
    "\n",
    "for person in train[\"personality\"]:\n",
    "    nums[labels.index(person)] += 1\n",
    "\n",
    "nums"
   ]
  },
  {
   "cell_type": "code",
   "execution_count": 10,
   "metadata": {},
   "outputs": [
    {
     "name": "stderr",
     "output_type": "stream",
     "text": [
      "100%|██████████| 58972/58972 [00:02<00:00, 20166.80it/s]\n",
      "100%|██████████| 58972/58972 [00:02<00:00, 20281.49it/s]\n"
     ]
    }
   ],
   "source": [
    "import tqdm\n",
    "\n",
    "\n",
    "ENTJ = [train[i][\"content\"].replace(\"|||\", \".\") for i in tqdm.tqdm(range(len(train)), position=0) if train[i][\"personality\"] == \"ENTJ\"]\n",
    "ISFP = [train[i][\"content\"].replace(\"|||\", \".\") for i in tqdm.tqdm(range(len(train)), position=0) if train[i][\"personality\"] == \"ISFP\"]"
   ]
  },
  {
   "cell_type": "code",
   "execution_count": 19,
   "metadata": {},
   "outputs": [
    {
     "name": "stderr",
     "output_type": "stream",
     "text": [
      "100%|██████████| 1934/1934 [00:51<00:00, 37.83it/s]\n",
      "100%|██████████| 2128/2128 [00:56<00:00, 37.54it/s]\n"
     ]
    }
   ],
   "source": [
    "import spacy\n",
    "\n",
    "# 做词数统计\n",
    "nlp = spacy.load(\"en_core_web_sm\", exclude=[\"tok2vec\", \"tagger\", \"senter\", \"attribute_ruler\", \"lemmatizer\"])\n",
    "words1 = {}\n",
    "words2 = {}\n",
    "words = {}\n",
    "for i in tqdm.tqdm(range(len(ENTJ)), position=0):\n",
    "    ENTJ[i] = nlp(ENTJ[i])\n",
    "    for token in ENTJ[i]:\n",
    "        if token.text in words1.keys():\n",
    "            words1[token.text] += 1\n",
    "            words[token.text] += 1\n",
    "        else:\n",
    "            words[token.text] = 1\n",
    "            words1[token.text] = 1\n",
    "            \n",
    "for i in tqdm.tqdm(range(len(ISFP)), position=0):\n",
    "    ISFP[i] = nlp(ISFP[i])\n",
    "    for token in ISFP[i]:\n",
    "        if token.text in words2.keys():\n",
    "            words2[token.text] += 1\n",
    "        else:\n",
    "            words2[token.text] = 1\n",
    "        if token.text in words.keys():\n",
    "            words[token.text] += 1\n",
    "        else:\n",
    "            words[token.text] = 1"
   ]
  },
  {
   "cell_type": "code",
   "execution_count": 50,
   "metadata": {},
   "outputs": [],
   "source": [
    "# 预处理后期统一数据维度\n",
    "lst1 = [words1[i] if i in words1.keys() else 0 for i in words.keys()]\n",
    "lst2 = [words2[i] if i in words2.keys() else 0 for i in words.keys()]"
   ]
  },
  {
   "cell_type": "code",
   "execution_count": 63,
   "metadata": {},
   "outputs": [],
   "source": [
    "import numpy as np\n",
    "\n",
    "\n",
    "# 得到词数的编码向量\n",
    "fea1 = np.array(lst1)\n",
    "fea2 = np.array(lst2)"
   ]
  },
  {
   "cell_type": "code",
   "execution_count": 64,
   "metadata": {},
   "outputs": [],
   "source": [
    "# 计算每一种词汇所占比例\n",
    "fea1 = fea1 / np.sum(fea1)\n",
    "fea2 = fea2 / np.sum(fea2)"
   ]
  },
  {
   "cell_type": "code",
   "execution_count": 65,
   "metadata": {},
   "outputs": [],
   "source": [
    "# 变为单位向量\n",
    "fea1 = fea1 / np.linalg.norm(fea1)\n",
    "fea2 = fea2 / np.linalg.norm(fea2)"
   ]
  },
  {
   "cell_type": "code",
   "execution_count": 66,
   "metadata": {},
   "outputs": [],
   "source": [
    "cor = fea1.T.dot(fea2)"
   ]
  },
  {
   "cell_type": "code",
   "execution_count": 67,
   "metadata": {},
   "outputs": [
    {
     "data": {
      "text/plain": [
       "0.9852139611568004"
      ]
     },
     "execution_count": 67,
     "metadata": {},
     "output_type": "execute_result"
    }
   ],
   "source": [
    "cor"
   ]
  },
  {
   "cell_type": "markdown",
   "metadata": {},
   "source": [
    "<hr/>\n",
    "<center>探究只对人格进行二分类的分类情况</center>\n",
    "<hr/>"
   ]
  },
  {
   "cell_type": "code",
   "execution_count": 1,
   "metadata": {},
   "outputs": [],
   "source": [
    "import datasets\n",
    "\n",
    "DataFilePath = \"./personality_dataset\""
   ]
  },
  {
   "cell_type": "code",
   "execution_count": 2,
   "metadata": {},
   "outputs": [],
   "source": [
    "def get_data(path):\n",
    "    train = datasets.load_from_disk(path+\"/train\")\n",
    "    return train\n",
    "\n",
    "train = get_data(DataFilePath)"
   ]
  },
  {
   "cell_type": "code",
   "execution_count": 3,
   "metadata": {},
   "outputs": [
    {
     "data": {
      "text/plain": [
       "[16821, 42151, 10324, 48648, 48648, 10324, 25567, 33405]"
      ]
     },
     "execution_count": 3,
     "metadata": {},
     "output_type": "execute_result"
    }
   ],
   "source": [
    "nums = [0 for i in range(8)]\n",
    "\n",
    "labels = [\"E\", \"I\", \"S\", \"N\", \"T\", \"F\", \"J\", \"P\"]\n",
    "\n",
    "for person in train[\"personality\"]:\n",
    "    if \"E\" in person:\n",
    "        nums[labels.index(\"E\")] += 1\n",
    "    else:\n",
    "        nums[labels.index(\"I\")] += 1\n",
    "    if \"S\" in person:\n",
    "        nums[labels.index(\"S\")] += 1\n",
    "    else:\n",
    "        nums[labels.index(\"N\")] += 1\n",
    "    if \"N\" in person:\n",
    "        nums[labels.index(\"T\")] += 1\n",
    "    else:\n",
    "        nums[labels.index(\"F\")] += 1\n",
    "    if \"J\" in person:\n",
    "        nums[labels.index(\"J\")] += 1\n",
    "    else:\n",
    "        nums[labels.index(\"P\")] += 1\n",
    "\n",
    "nums"
   ]
  },
  {
   "cell_type": "code",
   "execution_count": 4,
   "metadata": {},
   "outputs": [],
   "source": [
    "from transformers import BertTokenizer, BertModel\n",
    "\n",
    "tokenizer = BertTokenizer.from_pretrained('./bert-base-uncase')"
   ]
  },
  {
   "cell_type": "code",
   "execution_count": 5,
   "metadata": {},
   "outputs": [],
   "source": [
    "import torch.utils\n",
    "import numpy as np\n",
    "\n",
    "\n",
    "class Dataset(torch.utils.data.Dataset):\n",
    "    def __init__(self, data, number, positive):\n",
    "        self.trian = datasets.load_from_disk(DataFilePath+\"/\"+data)\n",
    "        self.labels = [1 if positive in label else 0 for label in self.trian[\"personality\"][0 : number if number < len(self.trian[\"personality\"]) else -1]]\n",
    "        self.texts = [tokenizer(person.replace(\"|||\", \"[SEP]\"),\n",
    "                                padding=\"max_length\",\n",
    "                                max_length=512,\n",
    "                                truncation=True,\n",
    "                                return_tensors=\"pt\")\n",
    "                      for person in self.trian[\"content\"][0 : number if number < len(self.trian[\"content\"]) else -1]]\n",
    "    \n",
    "    def classes(self):\n",
    "        return self.labels\n",
    "    \n",
    "    def __len__(self):\n",
    "        return len(self.labels)\n",
    "    \n",
    "    def get_batch_labels(self, idx):\n",
    "        return np.array(self.labels[idx])\n",
    "    \n",
    "    def get_batch_texts(self, idx):\n",
    "        return self.texts[idx]\n",
    "    \n",
    "    def __getitem__(self, idx):\n",
    "        batch_texts = self.get_batch_texts(idx)\n",
    "        batch_y = self.get_batch_labels(idx)\n",
    "        return batch_texts, batch_y"
   ]
  },
  {
   "cell_type": "code",
   "execution_count": 6,
   "metadata": {},
   "outputs": [],
   "source": [
    "from torch import nn\n",
    "\n",
    "class BertClassifier(nn.Module):\n",
    "    def __init__(self, dropout=0.5):\n",
    "        super(BertClassifier, self).__init__()\n",
    "        self.bert = BertModel.from_pretrained('./bert-base-uncase')\n",
    "        self.dropout = nn.Dropout(dropout)\n",
    "        self.linear = nn.Linear(768, 2)\n",
    "        self.relu = nn.ReLU()\n",
    "\n",
    "    def forward(self, input_id, mask):\n",
    "        _, pooled_output = self.bert(input_ids= input_id, attention_mask=mask,return_dict=False)\n",
    "        dropout_output = self.dropout(pooled_output)\n",
    "        linear_output = self.linear(dropout_output)\n",
    "        final_layer = self.relu(linear_output)\n",
    "        return final_layer"
   ]
  },
  {
   "cell_type": "code",
   "execution_count": 7,
   "metadata": {},
   "outputs": [],
   "source": [
    "from torch.optim import Adam\n",
    "from tqdm import tqdm\n",
    "\n",
    "def train(model, train_data, val_data, learning_rate, epochs, number, positive):\n",
    "    \n",
    "    train, val = Dataset(train_data, number, positive), Dataset(val_data, number, positive)\n",
    "    \n",
    "    train_dataloader = torch.utils.data.DataLoader(train, batch_size=2, shuffle=True)\n",
    "    val_dataloader = torch.utils.data.DataLoader(val, batch_size=2)\n",
    "    \n",
    "    use_cuda = torch.cuda.is_available()\n",
    "    device = torch.device(\"cuda\" if use_cuda else \"cpu\")\n",
    "    \n",
    "    criterion = nn.CrossEntropyLoss()\n",
    "    optimizer = Adam(model.parameters(), lr=learning_rate)\n",
    "\n",
    "    max_acc = 0\n",
    "    if use_cuda:\n",
    "            model = model.cuda()\n",
    "            criterion = criterion.cuda()\n",
    "    \n",
    "    for epoch_num in range(epochs):\n",
    "        \n",
    "        total_acc_train = 0\n",
    "        total_loss_train = 0\n",
    "        \n",
    "        for train_input, train_label in tqdm(train_dataloader):\n",
    "\n",
    "            train_label = train_label.to(device)\n",
    "            mask = train_input['attention_mask'].to(device)\n",
    "            input_id = train_input['input_ids'].squeeze(1).to(device)\n",
    "            \n",
    "            output = model(input_id, mask)\n",
    "            \n",
    "            batch_loss = criterion(output, train_label.to(torch.int64))\n",
    "            total_loss_train += batch_loss.item()\n",
    "            \n",
    "            acc = (output.argmax(dim=1) == train_label).sum().item()\n",
    "            total_acc_train += acc\n",
    "            \n",
    "            model.zero_grad()\n",
    "            batch_loss.backward()\n",
    "            optimizer.step()\n",
    "            \n",
    "            \n",
    "            total_acc_val = 0\n",
    "            total_loss_val = 0\n",
    "            \n",
    "            with torch.no_grad():\n",
    "                \n",
    "                for val_input, val_label in val_dataloader:\n",
    "\n",
    "                    val_label = val_label.to(device)\n",
    "                    mask = val_input['attention_mask'].to(device)\n",
    "                    input_id = val_input['input_ids'].squeeze(1).to(device)\n",
    "                    output = model(input_id, mask)\n",
    "                    \n",
    "                    batch_loss = criterion(output, val_label.to(torch.int64))\n",
    "                    total_loss_val += batch_loss.item()\n",
    "                    \n",
    "                    acc = (output.argmax(dim=1) == val_label).sum().item()\n",
    "                    total_acc_val += acc\n",
    "            \n",
    "            max_acc = max(max_acc, total_acc_val / len(val))\n",
    "            # print(\n",
    "            #     f'''Epochs: {epoch_num + 1} \n",
    "            #     | Train Loss: {total_loss_train / len(train): .3f} \n",
    "            #     | Train Accuracy: {total_acc_train / len(train): .3f} \n",
    "            #     | Val Loss: {total_loss_val / len(val): .3f} \n",
    "            #     | Val Accuracy: {total_acc_val / len(val): .3f}''')   \n",
    "    print(\"最好的准确率为\", max_acc)"
   ]
  },
  {
   "cell_type": "code",
   "execution_count": 8,
   "metadata": {},
   "outputs": [
    {
     "name": "stderr",
     "output_type": "stream",
     "text": [
      "c:\\Users\\王蔚昕\\AppData\\Local\\Programs\\Python\\Python310\\lib\\site-packages\\torch\\_utils.py:776: UserWarning: TypedStorage is deprecated. It will be removed in the future and UntypedStorage will be the only storage class. This should only matter to you if you are using storages directly.  To access UntypedStorage directly, use tensor.untyped_storage() instead of tensor.storage()\n",
      "  return self.fget.__get__(instance, owner)()\n"
     ]
    },
    {
     "name": "stdout",
     "output_type": "stream",
     "text": [
      "正类为 E\n"
     ]
    },
    {
     "name": "stderr",
     "output_type": "stream",
     "text": [
      "100%|██████████| 50/50 [09:14<00:00, 11.10s/it]\n",
      "c:\\Users\\王蔚昕\\AppData\\Local\\Programs\\Python\\Python310\\lib\\site-packages\\torch\\_utils.py:776: UserWarning: TypedStorage is deprecated. It will be removed in the future and UntypedStorage will be the only storage class. This should only matter to you if you are using storages directly.  To access UntypedStorage directly, use tensor.untyped_storage() instead of tensor.storage()\n",
      "  return self.fget.__get__(instance, owner)()\n"
     ]
    },
    {
     "name": "stdout",
     "output_type": "stream",
     "text": [
      "最好的准确率为 0.75\n",
      "正类为 N\n"
     ]
    },
    {
     "name": "stderr",
     "output_type": "stream",
     "text": [
      "100%|██████████| 50/50 [09:57<00:00, 11.95s/it]\n"
     ]
    },
    {
     "name": "stdout",
     "output_type": "stream",
     "text": [
      "最好的准确率为 0.86\n",
      "正类为 T\n"
     ]
    },
    {
     "name": "stderr",
     "output_type": "stream",
     "text": [
      "100%|██████████| 50/50 [10:08<00:00, 12.17s/it]\n"
     ]
    },
    {
     "name": "stdout",
     "output_type": "stream",
     "text": [
      "最好的准确率为 0.62\n",
      "正类为 J\n"
     ]
    },
    {
     "name": "stderr",
     "output_type": "stream",
     "text": [
      "100%|██████████| 50/50 [10:14<00:00, 12.29s/it]"
     ]
    },
    {
     "name": "stdout",
     "output_type": "stream",
     "text": [
      "最好的准确率为 0.62\n"
     ]
    },
    {
     "name": "stderr",
     "output_type": "stream",
     "text": [
      "\n"
     ]
    }
   ],
   "source": [
    "EPOCHS = 1\n",
    "\n",
    "LR = 1e-6\n",
    "number = 100\n",
    "\n",
    "for i in [\"E\", \"N\", \"T\", \"J\"]:\n",
    "    model = BertClassifier()\n",
    "    print(\"正类为\",i)\n",
    "    train(model, \"train\", \"valid\",  LR, EPOCHS, number, i)"
   ]
  }
 ],
 "metadata": {
  "kernelspec": {
   "display_name": "Python 3",
   "language": "python",
   "name": "python3"
  },
  "language_info": {
   "codemirror_mode": {
    "name": "ipython",
    "version": 3
   },
   "file_extension": ".py",
   "mimetype": "text/x-python",
   "name": "python",
   "nbconvert_exporter": "python",
   "pygments_lexer": "ipython3",
   "version": "3.10.1"
  }
 },
 "nbformat": 4,
 "nbformat_minor": 2
}
