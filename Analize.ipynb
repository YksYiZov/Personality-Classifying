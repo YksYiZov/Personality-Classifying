{
 "cells": [
  {
   "cell_type": "markdown",
   "metadata": {},
   "source": [
    "<hr/>\n",
    "<center>探究不同性格间文本内容的相似度</center>\n",
    "<hr/>"
   ]
  },
  {
   "cell_type": "code",
   "execution_count": 1,
   "metadata": {},
   "outputs": [],
   "source": [
    "import datasets\n",
    "\n",
    "DataFilePath = \"./personality_dataset\""
   ]
  },
  {
   "cell_type": "code",
   "execution_count": 2,
   "metadata": {},
   "outputs": [],
   "source": [
    "def get_data(path):\n",
    "    train = datasets.load_from_disk(path+\"/train\")\n",
    "    return train\n",
    "\n",
    "train = get_data(DataFilePath)"
   ]
  },
  {
   "cell_type": "code",
   "execution_count": 3,
   "metadata": {},
   "outputs": [],
   "source": [
    "labels = [\"ENTJ\", \"ENTP\", \"ENFJ\", \"ENFP\", \"ESFJ\", \"ESFP\", \"ESTJ\", \"ESTP\", \"INTP\", \"INTJ\", \"INFP\", \"INFJ\", \"ISFP\", \"ISFJ\", \"ISTP\", \"ISTJ\"]"
   ]
  },
  {
   "cell_type": "code",
   "execution_count": 4,
   "metadata": {},
   "outputs": [
    {
     "data": {
      "text/plain": [
       "[1934,\n",
       " 4456,\n",
       " 2803,\n",
       " 5186,\n",
       " 552,\n",
       " 758,\n",
       " 494,\n",
       " 638,\n",
       " 7213,\n",
       " 6913,\n",
       " 10862,\n",
       " 9281,\n",
       " 2128,\n",
       " 1923,\n",
       " 2164,\n",
       " 1667]"
      ]
     },
     "execution_count": 4,
     "metadata": {},
     "output_type": "execute_result"
    }
   ],
   "source": [
    "nums = [0 for i in range(16)]\n",
    "\n",
    "for person in train[\"personality\"]:\n",
    "    nums[labels.index(person)] += 1\n",
    "\n",
    "nums"
   ]
  },
  {
   "cell_type": "code",
   "execution_count": 10,
   "metadata": {},
   "outputs": [
    {
     "name": "stderr",
     "output_type": "stream",
     "text": [
      "100%|██████████| 58972/58972 [00:02<00:00, 20166.80it/s]\n",
      "100%|██████████| 58972/58972 [00:02<00:00, 20281.49it/s]\n"
     ]
    }
   ],
   "source": [
    "import tqdm\n",
    "\n",
    "\n",
    "# 选取两个数量相近的性格\n",
    "personality = [\"ENTJ\", \"ISFP\"]\n",
    "ENTJ = [train[i][\"content\"].replace(\"|||\", \".\") for i in tqdm.tqdm(range(len(train)), position=0) if train[i][\"personality\"] == \"ENTJ\"]\n",
    "ISFP = [train[i][\"content\"].replace(\"|||\", \".\") for i in tqdm.tqdm(range(len(train)), position=0) if train[i][\"personality\"] == \"ISFP\"]"
   ]
  },
  {
   "cell_type": "code",
   "execution_count": 19,
   "metadata": {},
   "outputs": [
    {
     "name": "stderr",
     "output_type": "stream",
     "text": [
      "100%|██████████| 1934/1934 [00:51<00:00, 37.83it/s]\n",
      "100%|██████████| 2128/2128 [00:56<00:00, 37.54it/s]\n"
     ]
    }
   ],
   "source": [
    "import spacy\n",
    "\n",
    "# 做词数统计\n",
    "nlp = spacy.load(\"en_core_web_sm\", exclude=[\"tok2vec\", \"tagger\", \"senter\", \"attribute_ruler\", \"lemmatizer\"])\n",
    "words1 = {}\n",
    "words2 = {}\n",
    "words = {}\n",
    "for i in tqdm.tqdm(range(len(ENTJ)), position=0):\n",
    "    ENTJ[i] = nlp(ENTJ[i])\n",
    "    for token in ENTJ[i]:\n",
    "        if token.text in words1.keys():\n",
    "            words1[token.text] += 1\n",
    "            words[token.text] += 1\n",
    "        else:\n",
    "            words[token.text] = 1\n",
    "            words1[token.text] = 1\n",
    "            \n",
    "for i in tqdm.tqdm(range(len(ISFP)), position=0):\n",
    "    ISFP[i] = nlp(ISFP[i])\n",
    "    for token in ISFP[i]:\n",
    "        if token.text in words2.keys():\n",
    "            words2[token.text] += 1\n",
    "        else:\n",
    "            words2[token.text] = 1\n",
    "        if token.text in words.keys():\n",
    "            words[token.text] += 1\n",
    "        else:\n",
    "            words[token.text] = 1"
   ]
  },
  {
   "cell_type": "code",
   "execution_count": 50,
   "metadata": {},
   "outputs": [],
   "source": [
    "# 预处理后期统一数据维度\n",
    "lst1 = [words1[i] if i in words1.keys() else 0 for i in words.keys()]\n",
    "lst2 = [words2[i] if i in words2.keys() else 0 for i in words.keys()]"
   ]
  },
  {
   "cell_type": "code",
   "execution_count": 63,
   "metadata": {},
   "outputs": [],
   "source": [
    "import numpy as np\n",
    "\n",
    "\n",
    "# 得到词数的编码向量\n",
    "fea1 = np.array(lst1)\n",
    "fea2 = np.array(lst2)"
   ]
  },
  {
   "cell_type": "code",
   "execution_count": 64,
   "metadata": {},
   "outputs": [],
   "source": [
    "# 计算每一种词汇所占比例\n",
    "fea1 = fea1 / np.sum(fea1)\n",
    "fea2 = fea2 / np.sum(fea2)"
   ]
  },
  {
   "cell_type": "code",
   "execution_count": 65,
   "metadata": {},
   "outputs": [],
   "source": [
    "# 变为单位向量\n",
    "fea1 = fea1 / np.linalg.norm(fea1)\n",
    "fea2 = fea2 / np.linalg.norm(fea2)"
   ]
  },
  {
   "cell_type": "code",
   "execution_count": 66,
   "metadata": {},
   "outputs": [],
   "source": [
    "cor = fea1.T.dot(fea2)"
   ]
  },
  {
   "cell_type": "code",
   "execution_count": 67,
   "metadata": {},
   "outputs": [
    {
     "data": {
      "text/plain": [
       "0.9852139611568004"
      ]
     },
     "execution_count": 67,
     "metadata": {},
     "output_type": "execute_result"
    }
   ],
   "source": [
    "cor"
   ]
  },
  {
   "cell_type": "markdown",
   "metadata": {},
   "source": [
    "<hr/>\n",
    "<center>探究只对人格进行二分类的分类情况</center>\n",
    "<hr/>"
   ]
  },
  {
   "cell_type": "code",
   "execution_count": 1,
   "metadata": {},
   "outputs": [],
   "source": [
    "import datasets\n",
    "\n",
    "DataFilePath = \"./personality_dataset\""
   ]
  },
  {
   "cell_type": "code",
   "execution_count": 2,
   "metadata": {},
   "outputs": [],
   "source": [
    "def get_data(path):\n",
    "    train = datasets.load_from_disk(path+\"/train\")\n",
    "    return train\n",
    "\n",
    "train = get_data(DataFilePath)"
   ]
  },
  {
   "cell_type": "code",
   "execution_count": 3,
   "metadata": {},
   "outputs": [
    {
     "data": {
      "text/plain": [
       "[16821, 42151, 10324, 48648, 48648, 10324, 25567, 33405]"
      ]
     },
     "execution_count": 3,
     "metadata": {},
     "output_type": "execute_result"
    }
   ],
   "source": [
    "nums = [0 for i in range(8)]\n",
    "\n",
    "labels = [\"E\", \"I\", \"S\", \"N\", \"T\", \"F\", \"J\", \"P\"]\n",
    "\n",
    "for person in train[\"personality\"]:\n",
    "    if \"E\" in person:\n",
    "        nums[labels.index(\"E\")] += 1\n",
    "    else:\n",
    "        nums[labels.index(\"I\")] += 1\n",
    "    if \"S\" in person:\n",
    "        nums[labels.index(\"S\")] += 1\n",
    "    else:\n",
    "        nums[labels.index(\"N\")] += 1\n",
    "    if \"N\" in person:\n",
    "        nums[labels.index(\"T\")] += 1\n",
    "    else:\n",
    "        nums[labels.index(\"F\")] += 1\n",
    "    if \"J\" in person:\n",
    "        nums[labels.index(\"J\")] += 1\n",
    "    else:\n",
    "        nums[labels.index(\"P\")] += 1\n",
    "\n",
    "nums"
   ]
  },
  {
   "cell_type": "code",
   "execution_count": 4,
   "metadata": {},
   "outputs": [],
   "source": [
    "from transformers import BertTokenizer, BertModel\n",
    "\n",
    "tokenizer = BertTokenizer.from_pretrained('./bert-base-uncase')"
   ]
  },
  {
   "cell_type": "code",
   "execution_count": 5,
   "metadata": {},
   "outputs": [],
   "source": [
    "import torch.utils\n",
    "import numpy as np\n",
    "\n",
    "\n",
    "class Dataset(torch.utils.data.Dataset):\n",
    "    def __init__(self, data, number):\n",
    "        self.trian = datasets.load_from_disk(DataFilePath+\"/\"+data)\n",
    "        self.labels = [1 if \"J\" in label else 0 for label in self.trian[\"personality\"][0 : number if number < len(self.trian[\"personality\"]) else -1]]\n",
    "        self.texts = [tokenizer(person.replace(\"|||\", \"[SEP]\"),\n",
    "                                padding=\"max_length\",\n",
    "                                max_length=512,\n",
    "                                truncation=True,\n",
    "                                return_tensors=\"pt\")\n",
    "                      for person in self.trian[\"content\"][0 : number if number < len(self.trian[\"content\"]) else -1]]\n",
    "    \n",
    "    def classes(self):\n",
    "        return self.labels\n",
    "    \n",
    "    def __len__(self):\n",
    "        return len(self.labels)\n",
    "    \n",
    "    def get_batch_labels(self, idx):\n",
    "        return np.array(self.labels[idx])\n",
    "    \n",
    "    def get_batch_texts(self, idx):\n",
    "        return self.texts[idx]\n",
    "    \n",
    "    def __getitem__(self, idx):\n",
    "        batch_texts = self.get_batch_texts(idx)\n",
    "        batch_y = self.get_batch_labels(idx)\n",
    "        return batch_texts, batch_y"
   ]
  },
  {
   "cell_type": "code",
   "execution_count": 6,
   "metadata": {},
   "outputs": [],
   "source": [
    "from torch import nn\n",
    "\n",
    "class BertClassifier(nn.Module):\n",
    "    def __init__(self, dropout=0.5):\n",
    "        super(BertClassifier, self).__init__()\n",
    "        self.bert = BertModel.from_pretrained('./bert-base-uncase')\n",
    "        self.dropout = nn.Dropout(dropout)\n",
    "        self.linear = nn.Linear(768, 2)\n",
    "        self.relu = nn.ReLU()\n",
    "\n",
    "    def forward(self, input_id, mask):\n",
    "        _, pooled_output = self.bert(input_ids= input_id, attention_mask=mask,return_dict=False)\n",
    "        dropout_output = self.dropout(pooled_output)\n",
    "        linear_output = self.linear(dropout_output)\n",
    "        final_layer = self.relu(linear_output)\n",
    "        return final_layer"
   ]
  },
  {
   "cell_type": "code",
   "execution_count": 7,
   "metadata": {},
   "outputs": [],
   "source": [
    "from torch.optim import Adam\n",
    "from tqdm import tqdm\n",
    "\n",
    "def train(model, train_data, val_data, learning_rate, epochs, number):\n",
    "    \n",
    "    train, val = Dataset(train_data, number), Dataset(val_data, number)\n",
    "    \n",
    "    train_dataloader = torch.utils.data.DataLoader(train, batch_size=2, shuffle=True)\n",
    "    val_dataloader = torch.utils.data.DataLoader(val, batch_size=2)\n",
    "    \n",
    "    use_cuda = torch.cuda.is_available()\n",
    "    device = torch.device(\"cuda\" if use_cuda else \"cpu\")\n",
    "    \n",
    "    criterion = nn.CrossEntropyLoss()\n",
    "    optimizer = Adam(model.parameters(), lr=learning_rate)\n",
    "\n",
    "    if use_cuda:\n",
    "            model = model.cuda()\n",
    "            criterion = criterion.cuda()\n",
    "    \n",
    "    for epoch_num in range(epochs):\n",
    "        \n",
    "        total_acc_train = 0\n",
    "        total_loss_train = 0\n",
    "        \n",
    "        for train_input, train_label in tqdm(train_dataloader):\n",
    "\n",
    "            train_label = train_label.to(device)\n",
    "            mask = train_input['attention_mask'].to(device)\n",
    "            input_id = train_input['input_ids'].squeeze(1).to(device)\n",
    "            \n",
    "            output = model(input_id, mask)\n",
    "            \n",
    "            batch_loss = criterion(output, train_label.to(torch.int64))\n",
    "            total_loss_train += batch_loss.item()\n",
    "            \n",
    "            acc = (output.argmax(dim=1) == train_label).sum().item()\n",
    "            total_acc_train += acc\n",
    "            \n",
    "            model.zero_grad()\n",
    "            batch_loss.backward()\n",
    "            optimizer.step()\n",
    "            \n",
    "            \n",
    "            total_acc_val = 0\n",
    "            total_loss_val = 0\n",
    "            \n",
    "            with torch.no_grad():\n",
    "                \n",
    "                for val_input, val_label in val_dataloader:\n",
    "\n",
    "                    val_label = val_label.to(device)\n",
    "                    mask = val_input['attention_mask'].to(device)\n",
    "                    input_id = val_input['input_ids'].squeeze(1).to(device)\n",
    "                    output = model(input_id, mask)\n",
    "                    \n",
    "                    batch_loss = criterion(output, val_label.to(torch.int64))\n",
    "                    total_loss_val += batch_loss.item()\n",
    "                    \n",
    "                    acc = (output.argmax(dim=1) == val_label).sum().item()\n",
    "                    total_acc_val += acc\n",
    "            \n",
    "            print(\n",
    "                f'''Epochs: {epoch_num + 1} \n",
    "                | Train Loss: {total_loss_train / len(train): .3f} \n",
    "                | Train Accuracy: {total_acc_train / len(train): .3f} \n",
    "                | Val Loss: {total_loss_val / len(val): .3f} \n",
    "                | Val Accuracy: {total_acc_val / len(val): .3f}''')   "
   ]
  },
  {
   "cell_type": "code",
   "execution_count": 8,
   "metadata": {},
   "outputs": [
    {
     "name": "stderr",
     "output_type": "stream",
     "text": [
      "c:\\Users\\王蔚昕\\AppData\\Local\\Programs\\Python\\Python310\\lib\\site-packages\\torch\\_utils.py:776: UserWarning: TypedStorage is deprecated. It will be removed in the future and UntypedStorage will be the only storage class. This should only matter to you if you are using storages directly.  To access UntypedStorage directly, use tensor.untyped_storage() instead of tensor.storage()\n",
      "  return self.fget.__get__(instance, owner)()\n",
      "  2%|▏         | 1/50 [00:10<08:28, 10.39s/it]"
     ]
    },
    {
     "name": "stdout",
     "output_type": "stream",
     "text": [
      "Epochs: 1 \n",
      "                | Train Loss:  0.006 \n",
      "                | Train Accuracy:  0.020 \n",
      "                | Val Loss:  0.353 \n",
      "                | Val Accuracy:  0.450\n"
     ]
    },
    {
     "name": "stderr",
     "output_type": "stream",
     "text": [
      "  4%|▍         | 2/50 [00:24<10:01, 12.53s/it]"
     ]
    },
    {
     "name": "stdout",
     "output_type": "stream",
     "text": [
      "Epochs: 1 \n",
      "                | Train Loss:  0.012 \n",
      "                | Train Accuracy:  0.040 \n",
      "                | Val Loss:  0.355 \n",
      "                | Val Accuracy:  0.460\n"
     ]
    },
    {
     "name": "stderr",
     "output_type": "stream",
     "text": [
      "  6%|▌         | 3/50 [00:32<08:06, 10.34s/it]"
     ]
    },
    {
     "name": "stdout",
     "output_type": "stream",
     "text": [
      "Epochs: 1 \n",
      "                | Train Loss:  0.017 \n",
      "                | Train Accuracy:  0.060 \n",
      "                | Val Loss:  0.355 \n",
      "                | Val Accuracy:  0.470\n"
     ]
    },
    {
     "name": "stderr",
     "output_type": "stream",
     "text": [
      "  8%|▊         | 4/50 [00:42<07:55, 10.34s/it]"
     ]
    },
    {
     "name": "stdout",
     "output_type": "stream",
     "text": [
      "Epochs: 1 \n",
      "                | Train Loss:  0.024 \n",
      "                | Train Accuracy:  0.080 \n",
      "                | Val Loss:  0.354 \n",
      "                | Val Accuracy:  0.420\n"
     ]
    },
    {
     "name": "stderr",
     "output_type": "stream",
     "text": [
      " 10%|█         | 5/50 [00:56<08:47, 11.71s/it]"
     ]
    },
    {
     "name": "stdout",
     "output_type": "stream",
     "text": [
      "Epochs: 1 \n",
      "                | Train Loss:  0.030 \n",
      "                | Train Accuracy:  0.090 \n",
      "                | Val Loss:  0.356 \n",
      "                | Val Accuracy:  0.450\n"
     ]
    },
    {
     "name": "stderr",
     "output_type": "stream",
     "text": [
      " 12%|█▏        | 6/50 [01:10<09:04, 12.37s/it]"
     ]
    },
    {
     "name": "stdout",
     "output_type": "stream",
     "text": [
      "Epochs: 1 \n",
      "                | Train Loss:  0.036 \n",
      "                | Train Accuracy:  0.110 \n",
      "                | Val Loss:  0.361 \n",
      "                | Val Accuracy:  0.460\n"
     ]
    },
    {
     "name": "stderr",
     "output_type": "stream",
     "text": [
      " 14%|█▍        | 7/50 [01:39<12:49, 17.90s/it]"
     ]
    },
    {
     "name": "stdout",
     "output_type": "stream",
     "text": [
      "Epochs: 1 \n",
      "                | Train Loss:  0.045 \n",
      "                | Train Accuracy:  0.110 \n",
      "                | Val Loss:  0.357 \n",
      "                | Val Accuracy:  0.430\n"
     ]
    },
    {
     "name": "stderr",
     "output_type": "stream",
     "text": [
      " 16%|█▌        | 8/50 [01:50<10:58, 15.69s/it]"
     ]
    },
    {
     "name": "stdout",
     "output_type": "stream",
     "text": [
      "Epochs: 1 \n",
      "                | Train Loss:  0.052 \n",
      "                | Train Accuracy:  0.110 \n",
      "                | Val Loss:  0.357 \n",
      "                | Val Accuracy:  0.460\n"
     ]
    },
    {
     "name": "stderr",
     "output_type": "stream",
     "text": [
      " 18%|█▊        | 9/50 [01:58<08:58, 13.13s/it]"
     ]
    },
    {
     "name": "stdout",
     "output_type": "stream",
     "text": [
      "Epochs: 1 \n",
      "                | Train Loss:  0.060 \n",
      "                | Train Accuracy:  0.120 \n",
      "                | Val Loss:  0.355 \n",
      "                | Val Accuracy:  0.450\n"
     ]
    },
    {
     "name": "stderr",
     "output_type": "stream",
     "text": [
      " 20%|██        | 10/50 [02:06<07:50, 11.77s/it]"
     ]
    },
    {
     "name": "stdout",
     "output_type": "stream",
     "text": [
      "Epochs: 1 \n",
      "                | Train Loss:  0.067 \n",
      "                | Train Accuracy:  0.130 \n",
      "                | Val Loss:  0.357 \n",
      "                | Val Accuracy:  0.430\n"
     ]
    },
    {
     "name": "stderr",
     "output_type": "stream",
     "text": [
      " 22%|██▏       | 11/50 [02:14<06:48, 10.49s/it]"
     ]
    },
    {
     "name": "stdout",
     "output_type": "stream",
     "text": [
      "Epochs: 1 \n",
      "                | Train Loss:  0.073 \n",
      "                | Train Accuracy:  0.150 \n",
      "                | Val Loss:  0.360 \n",
      "                | Val Accuracy:  0.400\n"
     ]
    },
    {
     "name": "stderr",
     "output_type": "stream",
     "text": [
      " 24%|██▍       | 12/50 [02:24<06:36, 10.45s/it]"
     ]
    },
    {
     "name": "stdout",
     "output_type": "stream",
     "text": [
      "Epochs: 1 \n",
      "                | Train Loss:  0.080 \n",
      "                | Train Accuracy:  0.160 \n",
      "                | Val Loss:  0.358 \n",
      "                | Val Accuracy:  0.510\n"
     ]
    },
    {
     "name": "stderr",
     "output_type": "stream",
     "text": [
      " 26%|██▌       | 13/50 [02:32<05:52,  9.54s/it]"
     ]
    },
    {
     "name": "stdout",
     "output_type": "stream",
     "text": [
      "Epochs: 1 \n",
      "                | Train Loss:  0.088 \n",
      "                | Train Accuracy:  0.170 \n",
      "                | Val Loss:  0.360 \n",
      "                | Val Accuracy:  0.440\n"
     ]
    },
    {
     "name": "stderr",
     "output_type": "stream",
     "text": [
      " 28%|██▊       | 14/50 [02:39<05:21,  8.93s/it]"
     ]
    },
    {
     "name": "stdout",
     "output_type": "stream",
     "text": [
      "Epochs: 1 \n",
      "                | Train Loss:  0.093 \n",
      "                | Train Accuracy:  0.190 \n",
      "                | Val Loss:  0.354 \n",
      "                | Val Accuracy:  0.460\n"
     ]
    },
    {
     "name": "stderr",
     "output_type": "stream",
     "text": [
      " 30%|███       | 15/50 [02:47<04:57,  8.50s/it]"
     ]
    },
    {
     "name": "stdout",
     "output_type": "stream",
     "text": [
      "Epochs: 1 \n",
      "                | Train Loss:  0.102 \n",
      "                | Train Accuracy:  0.190 \n",
      "                | Val Loss:  0.353 \n",
      "                | Val Accuracy:  0.450\n"
     ]
    },
    {
     "name": "stderr",
     "output_type": "stream",
     "text": [
      " 32%|███▏      | 16/50 [02:54<04:38,  8.20s/it]"
     ]
    },
    {
     "name": "stdout",
     "output_type": "stream",
     "text": [
      "Epochs: 1 \n",
      "                | Train Loss:  0.109 \n",
      "                | Train Accuracy:  0.200 \n",
      "                | Val Loss:  0.358 \n",
      "                | Val Accuracy:  0.440\n"
     ]
    },
    {
     "name": "stderr",
     "output_type": "stream",
     "text": [
      " 34%|███▍      | 17/50 [03:02<04:24,  8.01s/it]"
     ]
    },
    {
     "name": "stdout",
     "output_type": "stream",
     "text": [
      "Epochs: 1 \n",
      "                | Train Loss:  0.116 \n",
      "                | Train Accuracy:  0.210 \n",
      "                | Val Loss:  0.356 \n",
      "                | Val Accuracy:  0.440\n"
     ]
    },
    {
     "name": "stderr",
     "output_type": "stream",
     "text": [
      " 36%|███▌      | 18/50 [03:09<04:11,  7.87s/it]"
     ]
    },
    {
     "name": "stdout",
     "output_type": "stream",
     "text": [
      "Epochs: 1 \n",
      "                | Train Loss:  0.123 \n",
      "                | Train Accuracy:  0.220 \n",
      "                | Val Loss:  0.365 \n",
      "                | Val Accuracy:  0.470\n"
     ]
    },
    {
     "name": "stderr",
     "output_type": "stream",
     "text": [
      " 38%|███▊      | 19/50 [03:20<04:27,  8.62s/it]"
     ]
    },
    {
     "name": "stdout",
     "output_type": "stream",
     "text": [
      "Epochs: 1 \n",
      "                | Train Loss:  0.130 \n",
      "                | Train Accuracy:  0.230 \n",
      "                | Val Loss:  0.356 \n",
      "                | Val Accuracy:  0.490\n"
     ]
    },
    {
     "name": "stderr",
     "output_type": "stream",
     "text": [
      " 40%|████      | 20/50 [03:31<04:45,  9.52s/it]"
     ]
    },
    {
     "name": "stdout",
     "output_type": "stream",
     "text": [
      "Epochs: 1 \n",
      "                | Train Loss:  0.136 \n",
      "                | Train Accuracy:  0.240 \n",
      "                | Val Loss:  0.357 \n",
      "                | Val Accuracy:  0.420\n"
     ]
    },
    {
     "name": "stderr",
     "output_type": "stream",
     "text": [
      " 42%|████▏     | 21/50 [03:39<04:18,  8.92s/it]"
     ]
    },
    {
     "name": "stdout",
     "output_type": "stream",
     "text": [
      "Epochs: 1 \n",
      "                | Train Loss:  0.145 \n",
      "                | Train Accuracy:  0.240 \n",
      "                | Val Loss:  0.356 \n",
      "                | Val Accuracy:  0.440\n"
     ]
    },
    {
     "name": "stderr",
     "output_type": "stream",
     "text": [
      " 44%|████▍     | 22/50 [03:46<03:58,  8.51s/it]"
     ]
    },
    {
     "name": "stdout",
     "output_type": "stream",
     "text": [
      "Epochs: 1 \n",
      "                | Train Loss:  0.151 \n",
      "                | Train Accuracy:  0.250 \n",
      "                | Val Loss:  0.356 \n",
      "                | Val Accuracy:  0.490\n"
     ]
    },
    {
     "name": "stderr",
     "output_type": "stream",
     "text": [
      " 46%|████▌     | 23/50 [03:54<03:41,  8.20s/it]"
     ]
    },
    {
     "name": "stdout",
     "output_type": "stream",
     "text": [
      "Epochs: 1 \n",
      "                | Train Loss:  0.158 \n",
      "                | Train Accuracy:  0.260 \n",
      "                | Val Loss:  0.357 \n",
      "                | Val Accuracy:  0.490\n"
     ]
    },
    {
     "name": "stderr",
     "output_type": "stream",
     "text": [
      " 48%|████▊     | 24/50 [04:02<03:31,  8.15s/it]"
     ]
    },
    {
     "name": "stdout",
     "output_type": "stream",
     "text": [
      "Epochs: 1 \n",
      "                | Train Loss:  0.164 \n",
      "                | Train Accuracy:  0.270 \n",
      "                | Val Loss:  0.356 \n",
      "                | Val Accuracy:  0.480\n"
     ]
    },
    {
     "name": "stderr",
     "output_type": "stream",
     "text": [
      " 50%|█████     | 25/50 [04:09<03:19,  7.96s/it]"
     ]
    },
    {
     "name": "stdout",
     "output_type": "stream",
     "text": [
      "Epochs: 1 \n",
      "                | Train Loss:  0.170 \n",
      "                | Train Accuracy:  0.290 \n",
      "                | Val Loss:  0.356 \n",
      "                | Val Accuracy:  0.460\n"
     ]
    },
    {
     "name": "stderr",
     "output_type": "stream",
     "text": [
      " 52%|█████▏    | 26/50 [04:17<03:11,  7.99s/it]"
     ]
    },
    {
     "name": "stdout",
     "output_type": "stream",
     "text": [
      "Epochs: 1 \n",
      "                | Train Loss:  0.178 \n",
      "                | Train Accuracy:  0.290 \n",
      "                | Val Loss:  0.356 \n",
      "                | Val Accuracy:  0.480\n"
     ]
    },
    {
     "name": "stderr",
     "output_type": "stream",
     "text": [
      " 54%|█████▍    | 27/50 [04:25<03:03,  7.98s/it]"
     ]
    },
    {
     "name": "stdout",
     "output_type": "stream",
     "text": [
      "Epochs: 1 \n",
      "                | Train Loss:  0.186 \n",
      "                | Train Accuracy:  0.290 \n",
      "                | Val Loss:  0.358 \n",
      "                | Val Accuracy:  0.470\n"
     ]
    },
    {
     "name": "stderr",
     "output_type": "stream",
     "text": [
      " 56%|█████▌    | 28/50 [04:33<02:55,  7.98s/it]"
     ]
    },
    {
     "name": "stdout",
     "output_type": "stream",
     "text": [
      "Epochs: 1 \n",
      "                | Train Loss:  0.193 \n",
      "                | Train Accuracy:  0.300 \n",
      "                | Val Loss:  0.359 \n",
      "                | Val Accuracy:  0.460\n"
     ]
    },
    {
     "name": "stderr",
     "output_type": "stream",
     "text": [
      " 58%|█████▊    | 29/50 [04:41<02:44,  7.83s/it]"
     ]
    },
    {
     "name": "stdout",
     "output_type": "stream",
     "text": [
      "Epochs: 1 \n",
      "                | Train Loss:  0.200 \n",
      "                | Train Accuracy:  0.310 \n",
      "                | Val Loss:  0.350 \n",
      "                | Val Accuracy:  0.530\n"
     ]
    },
    {
     "name": "stderr",
     "output_type": "stream",
     "text": [
      " 60%|██████    | 30/50 [04:48<02:35,  7.75s/it]"
     ]
    },
    {
     "name": "stdout",
     "output_type": "stream",
     "text": [
      "Epochs: 1 \n",
      "                | Train Loss:  0.208 \n",
      "                | Train Accuracy:  0.310 \n",
      "                | Val Loss:  0.355 \n",
      "                | Val Accuracy:  0.400\n"
     ]
    },
    {
     "name": "stderr",
     "output_type": "stream",
     "text": [
      " 62%|██████▏   | 31/50 [04:56<02:26,  7.69s/it]"
     ]
    },
    {
     "name": "stdout",
     "output_type": "stream",
     "text": [
      "Epochs: 1 \n",
      "                | Train Loss:  0.217 \n",
      "                | Train Accuracy:  0.310 \n",
      "                | Val Loss:  0.360 \n",
      "                | Val Accuracy:  0.430\n"
     ]
    },
    {
     "name": "stderr",
     "output_type": "stream",
     "text": [
      " 64%|██████▍   | 32/50 [05:08<02:42,  9.04s/it]"
     ]
    },
    {
     "name": "stdout",
     "output_type": "stream",
     "text": [
      "Epochs: 1 \n",
      "                | Train Loss:  0.223 \n",
      "                | Train Accuracy:  0.330 \n",
      "                | Val Loss:  0.360 \n",
      "                | Val Accuracy:  0.470\n"
     ]
    },
    {
     "name": "stderr",
     "output_type": "stream",
     "text": [
      " 66%|██████▌   | 33/50 [05:47<05:06, 18.02s/it]"
     ]
    },
    {
     "name": "stdout",
     "output_type": "stream",
     "text": [
      "Epochs: 1 \n",
      "                | Train Loss:  0.229 \n",
      "                | Train Accuracy:  0.350 \n",
      "                | Val Loss:  0.360 \n",
      "                | Val Accuracy:  0.450\n"
     ]
    },
    {
     "name": "stderr",
     "output_type": "stream",
     "text": [
      " 68%|██████▊   | 34/50 [05:55<03:57, 14.86s/it]"
     ]
    },
    {
     "name": "stdout",
     "output_type": "stream",
     "text": [
      "Epochs: 1 \n",
      "                | Train Loss:  0.236 \n",
      "                | Train Accuracy:  0.350 \n",
      "                | Val Loss:  0.350 \n",
      "                | Val Accuracy:  0.470\n"
     ]
    },
    {
     "name": "stderr",
     "output_type": "stream",
     "text": [
      " 70%|███████   | 35/50 [06:06<03:28, 13.90s/it]"
     ]
    },
    {
     "name": "stdout",
     "output_type": "stream",
     "text": [
      "Epochs: 1 \n",
      "                | Train Loss:  0.244 \n",
      "                | Train Accuracy:  0.350 \n",
      "                | Val Loss:  0.358 \n",
      "                | Val Accuracy:  0.430\n"
     ]
    },
    {
     "name": "stderr",
     "output_type": "stream",
     "text": [
      " 72%|███████▏  | 36/50 [06:15<02:51, 12.26s/it]"
     ]
    },
    {
     "name": "stdout",
     "output_type": "stream",
     "text": [
      "Epochs: 1 \n",
      "                | Train Loss:  0.252 \n",
      "                | Train Accuracy:  0.350 \n",
      "                | Val Loss:  0.354 \n",
      "                | Val Accuracy:  0.450\n"
     ]
    },
    {
     "name": "stderr",
     "output_type": "stream",
     "text": [
      " 74%|███████▍  | 37/50 [06:22<02:20, 10.82s/it]"
     ]
    },
    {
     "name": "stdout",
     "output_type": "stream",
     "text": [
      "Epochs: 1 \n",
      "                | Train Loss:  0.259 \n",
      "                | Train Accuracy:  0.350 \n",
      "                | Val Loss:  0.355 \n",
      "                | Val Accuracy:  0.460\n"
     ]
    },
    {
     "name": "stderr",
     "output_type": "stream",
     "text": [
      " 76%|███████▌  | 38/50 [06:30<01:57,  9.79s/it]"
     ]
    },
    {
     "name": "stdout",
     "output_type": "stream",
     "text": [
      "Epochs: 1 \n",
      "                | Train Loss:  0.266 \n",
      "                | Train Accuracy:  0.360 \n",
      "                | Val Loss:  0.351 \n",
      "                | Val Accuracy:  0.500\n"
     ]
    },
    {
     "name": "stderr",
     "output_type": "stream",
     "text": [
      " 78%|███████▊  | 39/50 [06:37<01:40,  9.12s/it]"
     ]
    },
    {
     "name": "stdout",
     "output_type": "stream",
     "text": [
      "Epochs: 1 \n",
      "                | Train Loss:  0.272 \n",
      "                | Train Accuracy:  0.380 \n",
      "                | Val Loss:  0.357 \n",
      "                | Val Accuracy:  0.480\n"
     ]
    },
    {
     "name": "stderr",
     "output_type": "stream",
     "text": [
      " 80%|████████  | 40/50 [06:45<01:26,  8.67s/it]"
     ]
    },
    {
     "name": "stdout",
     "output_type": "stream",
     "text": [
      "Epochs: 1 \n",
      "                | Train Loss:  0.279 \n",
      "                | Train Accuracy:  0.390 \n",
      "                | Val Loss:  0.354 \n",
      "                | Val Accuracy:  0.460\n"
     ]
    },
    {
     "name": "stderr",
     "output_type": "stream",
     "text": [
      " 82%|████████▏ | 41/50 [06:52<01:14,  8.32s/it]"
     ]
    },
    {
     "name": "stdout",
     "output_type": "stream",
     "text": [
      "Epochs: 1 \n",
      "                | Train Loss:  0.286 \n",
      "                | Train Accuracy:  0.390 \n",
      "                | Val Loss:  0.361 \n",
      "                | Val Accuracy:  0.480\n"
     ]
    },
    {
     "name": "stderr",
     "output_type": "stream",
     "text": [
      " 84%|████████▍ | 42/50 [07:00<01:04,  8.06s/it]"
     ]
    },
    {
     "name": "stdout",
     "output_type": "stream",
     "text": [
      "Epochs: 1 \n",
      "                | Train Loss:  0.294 \n",
      "                | Train Accuracy:  0.400 \n",
      "                | Val Loss:  0.355 \n",
      "                | Val Accuracy:  0.440\n"
     ]
    },
    {
     "name": "stderr",
     "output_type": "stream",
     "text": [
      " 86%|████████▌ | 43/50 [07:07<00:55,  7.91s/it]"
     ]
    },
    {
     "name": "stdout",
     "output_type": "stream",
     "text": [
      "Epochs: 1 \n",
      "                | Train Loss:  0.302 \n",
      "                | Train Accuracy:  0.400 \n",
      "                | Val Loss:  0.355 \n",
      "                | Val Accuracy:  0.460\n"
     ]
    },
    {
     "name": "stderr",
     "output_type": "stream",
     "text": [
      " 88%|████████▊ | 44/50 [07:15<00:46,  7.80s/it]"
     ]
    },
    {
     "name": "stdout",
     "output_type": "stream",
     "text": [
      "Epochs: 1 \n",
      "                | Train Loss:  0.309 \n",
      "                | Train Accuracy:  0.410 \n",
      "                | Val Loss:  0.359 \n",
      "                | Val Accuracy:  0.380\n"
     ]
    },
    {
     "name": "stderr",
     "output_type": "stream",
     "text": [
      " 90%|█████████ | 45/50 [07:22<00:38,  7.74s/it]"
     ]
    },
    {
     "name": "stdout",
     "output_type": "stream",
     "text": [
      "Epochs: 1 \n",
      "                | Train Loss:  0.315 \n",
      "                | Train Accuracy:  0.430 \n",
      "                | Val Loss:  0.353 \n",
      "                | Val Accuracy:  0.510\n"
     ]
    },
    {
     "name": "stderr",
     "output_type": "stream",
     "text": [
      " 92%|█████████▏| 46/50 [07:31<00:31,  7.89s/it]"
     ]
    },
    {
     "name": "stdout",
     "output_type": "stream",
     "text": [
      "Epochs: 1 \n",
      "                | Train Loss:  0.323 \n",
      "                | Train Accuracy:  0.430 \n",
      "                | Val Loss:  0.361 \n",
      "                | Val Accuracy:  0.460\n"
     ]
    },
    {
     "name": "stderr",
     "output_type": "stream",
     "text": [
      " 94%|█████████▍| 47/50 [07:38<00:23,  7.79s/it]"
     ]
    },
    {
     "name": "stdout",
     "output_type": "stream",
     "text": [
      "Epochs: 1 \n",
      "                | Train Loss:  0.330 \n",
      "                | Train Accuracy:  0.440 \n",
      "                | Val Loss:  0.357 \n",
      "                | Val Accuracy:  0.460\n"
     ]
    },
    {
     "name": "stderr",
     "output_type": "stream",
     "text": [
      " 96%|█████████▌| 48/50 [07:46<00:15,  7.69s/it]"
     ]
    },
    {
     "name": "stdout",
     "output_type": "stream",
     "text": [
      "Epochs: 1 \n",
      "                | Train Loss:  0.337 \n",
      "                | Train Accuracy:  0.450 \n",
      "                | Val Loss:  0.361 \n",
      "                | Val Accuracy:  0.450\n"
     ]
    },
    {
     "name": "stderr",
     "output_type": "stream",
     "text": [
      " 98%|█████████▊| 49/50 [07:53<00:07,  7.66s/it]"
     ]
    },
    {
     "name": "stdout",
     "output_type": "stream",
     "text": [
      "Epochs: 1 \n",
      "                | Train Loss:  0.343 \n",
      "                | Train Accuracy:  0.470 \n",
      "                | Val Loss:  0.355 \n",
      "                | Val Accuracy:  0.530\n"
     ]
    },
    {
     "name": "stderr",
     "output_type": "stream",
     "text": [
      "100%|██████████| 50/50 [08:01<00:00,  9.63s/it]"
     ]
    },
    {
     "name": "stdout",
     "output_type": "stream",
     "text": [
      "Epochs: 1 \n",
      "                | Train Loss:  0.351 \n",
      "                | Train Accuracy:  0.470 \n",
      "                | Val Loss:  0.353 \n",
      "                | Val Accuracy:  0.450\n"
     ]
    },
    {
     "name": "stderr",
     "output_type": "stream",
     "text": [
      "\n"
     ]
    }
   ],
   "source": [
    "EPOCHS = 1\n",
    "model = BertClassifier()\n",
    "LR = 1e-6\n",
    "number = 100\n",
    "\n",
    "train(model, \"train\", \"valid\",  LR, EPOCHS, number)"
   ]
  }
 ],
 "metadata": {
  "kernelspec": {
   "display_name": "Python 3",
   "language": "python",
   "name": "python3"
  },
  "language_info": {
   "codemirror_mode": {
    "name": "ipython",
    "version": 3
   },
   "file_extension": ".py",
   "mimetype": "text/x-python",
   "name": "python",
   "nbconvert_exporter": "python",
   "pygments_lexer": "ipython3",
   "version": "3.10.1"
  }
 },
 "nbformat": 4,
 "nbformat_minor": 2
}
